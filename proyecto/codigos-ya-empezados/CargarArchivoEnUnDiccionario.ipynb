{
  "nbformat": 4,
  "nbformat_minor": 0,
  "metadata": {
    "colab": {
      "name": "ProyectoEstructuras.ipynb",
      "provenance": [],
      "collapsed_sections": []
    },
    "kernelspec": {
      "name": "python3",
      "display_name": "Python 3"
    },
    "language_info": {
      "name": "python"
    }
  },
  "cells": [
    {
      "cell_type": "code",
      "execution_count": 5,
      "metadata": {
        "id": "_OiMzqJ8pPd_",
        "colab": {
          "base_uri": "https://localhost:8080/"
        },
        "outputId": "178ae58a-96ec-4cbb-f6ba-0fa89c0e0448"
      },
      "outputs": [
        {
          "output_type": "stream",
          "name": "stdout",
          "text": [
            "Collecting geopandas\n",
            "  Downloading geopandas-0.10.2-py2.py3-none-any.whl (1.0 MB)\n",
            "\u001b[?25l\r\u001b[K     |▎                               | 10 kB 21.5 MB/s eta 0:00:01\r\u001b[K     |▋                               | 20 kB 23.8 MB/s eta 0:00:01\r\u001b[K     |█                               | 30 kB 17.1 MB/s eta 0:00:01\r\u001b[K     |█▎                              | 40 kB 15.2 MB/s eta 0:00:01\r\u001b[K     |█▋                              | 51 kB 9.7 MB/s eta 0:00:01\r\u001b[K     |██                              | 61 kB 11.2 MB/s eta 0:00:01\r\u001b[K     |██▎                             | 71 kB 10.4 MB/s eta 0:00:01\r\u001b[K     |██▌                             | 81 kB 11.6 MB/s eta 0:00:01\r\u001b[K     |██▉                             | 92 kB 11.0 MB/s eta 0:00:01\r\u001b[K     |███▏                            | 102 kB 9.3 MB/s eta 0:00:01\r\u001b[K     |███▌                            | 112 kB 9.3 MB/s eta 0:00:01\r\u001b[K     |███▉                            | 122 kB 9.3 MB/s eta 0:00:01\r\u001b[K     |████▏                           | 133 kB 9.3 MB/s eta 0:00:01\r\u001b[K     |████▌                           | 143 kB 9.3 MB/s eta 0:00:01\r\u001b[K     |████▊                           | 153 kB 9.3 MB/s eta 0:00:01\r\u001b[K     |█████                           | 163 kB 9.3 MB/s eta 0:00:01\r\u001b[K     |█████▍                          | 174 kB 9.3 MB/s eta 0:00:01\r\u001b[K     |█████▊                          | 184 kB 9.3 MB/s eta 0:00:01\r\u001b[K     |██████                          | 194 kB 9.3 MB/s eta 0:00:01\r\u001b[K     |██████▍                         | 204 kB 9.3 MB/s eta 0:00:01\r\u001b[K     |██████▊                         | 215 kB 9.3 MB/s eta 0:00:01\r\u001b[K     |███████                         | 225 kB 9.3 MB/s eta 0:00:01\r\u001b[K     |███████▎                        | 235 kB 9.3 MB/s eta 0:00:01\r\u001b[K     |███████▋                        | 245 kB 9.3 MB/s eta 0:00:01\r\u001b[K     |████████                        | 256 kB 9.3 MB/s eta 0:00:01\r\u001b[K     |████████▎                       | 266 kB 9.3 MB/s eta 0:00:01\r\u001b[K     |████████▋                       | 276 kB 9.3 MB/s eta 0:00:01\r\u001b[K     |█████████                       | 286 kB 9.3 MB/s eta 0:00:01\r\u001b[K     |█████████▏                      | 296 kB 9.3 MB/s eta 0:00:01\r\u001b[K     |█████████▌                      | 307 kB 9.3 MB/s eta 0:00:01\r\u001b[K     |█████████▉                      | 317 kB 9.3 MB/s eta 0:00:01\r\u001b[K     |██████████▏                     | 327 kB 9.3 MB/s eta 0:00:01\r\u001b[K     |██████████▌                     | 337 kB 9.3 MB/s eta 0:00:01\r\u001b[K     |██████████▉                     | 348 kB 9.3 MB/s eta 0:00:01\r\u001b[K     |███████████▏                    | 358 kB 9.3 MB/s eta 0:00:01\r\u001b[K     |███████████▍                    | 368 kB 9.3 MB/s eta 0:00:01\r\u001b[K     |███████████▊                    | 378 kB 9.3 MB/s eta 0:00:01\r\u001b[K     |████████████                    | 389 kB 9.3 MB/s eta 0:00:01\r\u001b[K     |████████████▍                   | 399 kB 9.3 MB/s eta 0:00:01\r\u001b[K     |████████████▊                   | 409 kB 9.3 MB/s eta 0:00:01\r\u001b[K     |█████████████                   | 419 kB 9.3 MB/s eta 0:00:01\r\u001b[K     |█████████████▍                  | 430 kB 9.3 MB/s eta 0:00:01\r\u001b[K     |█████████████▋                  | 440 kB 9.3 MB/s eta 0:00:01\r\u001b[K     |██████████████                  | 450 kB 9.3 MB/s eta 0:00:01\r\u001b[K     |██████████████▎                 | 460 kB 9.3 MB/s eta 0:00:01\r\u001b[K     |██████████████▋                 | 471 kB 9.3 MB/s eta 0:00:01\r\u001b[K     |███████████████                 | 481 kB 9.3 MB/s eta 0:00:01\r\u001b[K     |███████████████▎                | 491 kB 9.3 MB/s eta 0:00:01\r\u001b[K     |███████████████▋                | 501 kB 9.3 MB/s eta 0:00:01\r\u001b[K     |███████████████▉                | 512 kB 9.3 MB/s eta 0:00:01\r\u001b[K     |████████████████▏               | 522 kB 9.3 MB/s eta 0:00:01\r\u001b[K     |████████████████▌               | 532 kB 9.3 MB/s eta 0:00:01\r\u001b[K     |████████████████▉               | 542 kB 9.3 MB/s eta 0:00:01\r\u001b[K     |█████████████████▏              | 552 kB 9.3 MB/s eta 0:00:01\r\u001b[K     |█████████████████▌              | 563 kB 9.3 MB/s eta 0:00:01\r\u001b[K     |█████████████████▉              | 573 kB 9.3 MB/s eta 0:00:01\r\u001b[K     |██████████████████              | 583 kB 9.3 MB/s eta 0:00:01\r\u001b[K     |██████████████████▍             | 593 kB 9.3 MB/s eta 0:00:01\r\u001b[K     |██████████████████▊             | 604 kB 9.3 MB/s eta 0:00:01\r\u001b[K     |███████████████████             | 614 kB 9.3 MB/s eta 0:00:01\r\u001b[K     |███████████████████▍            | 624 kB 9.3 MB/s eta 0:00:01\r\u001b[K     |███████████████████▊            | 634 kB 9.3 MB/s eta 0:00:01\r\u001b[K     |████████████████████            | 645 kB 9.3 MB/s eta 0:00:01\r\u001b[K     |████████████████████▎           | 655 kB 9.3 MB/s eta 0:00:01\r\u001b[K     |████████████████████▋           | 665 kB 9.3 MB/s eta 0:00:01\r\u001b[K     |█████████████████████           | 675 kB 9.3 MB/s eta 0:00:01\r\u001b[K     |█████████████████████▎          | 686 kB 9.3 MB/s eta 0:00:01\r\u001b[K     |█████████████████████▋          | 696 kB 9.3 MB/s eta 0:00:01\r\u001b[K     |██████████████████████          | 706 kB 9.3 MB/s eta 0:00:01\r\u001b[K     |██████████████████████▎         | 716 kB 9.3 MB/s eta 0:00:01\r\u001b[K     |██████████████████████▋         | 727 kB 9.3 MB/s eta 0:00:01\r\u001b[K     |██████████████████████▉         | 737 kB 9.3 MB/s eta 0:00:01\r\u001b[K     |███████████████████████▏        | 747 kB 9.3 MB/s eta 0:00:01\r\u001b[K     |███████████████████████▌        | 757 kB 9.3 MB/s eta 0:00:01\r\u001b[K     |███████████████████████▉        | 768 kB 9.3 MB/s eta 0:00:01\r\u001b[K     |████████████████████████▏       | 778 kB 9.3 MB/s eta 0:00:01\r\u001b[K     |████████████████████████▌       | 788 kB 9.3 MB/s eta 0:00:01\r\u001b[K     |████████████████████████▉       | 798 kB 9.3 MB/s eta 0:00:01\r\u001b[K     |█████████████████████████       | 808 kB 9.3 MB/s eta 0:00:01\r\u001b[K     |█████████████████████████▍      | 819 kB 9.3 MB/s eta 0:00:01\r\u001b[K     |█████████████████████████▊      | 829 kB 9.3 MB/s eta 0:00:01\r\u001b[K     |██████████████████████████      | 839 kB 9.3 MB/s eta 0:00:01\r\u001b[K     |██████████████████████████▍     | 849 kB 9.3 MB/s eta 0:00:01\r\u001b[K     |██████████████████████████▊     | 860 kB 9.3 MB/s eta 0:00:01\r\u001b[K     |███████████████████████████     | 870 kB 9.3 MB/s eta 0:00:01\r\u001b[K     |███████████████████████████▎    | 880 kB 9.3 MB/s eta 0:00:01\r\u001b[K     |███████████████████████████▋    | 890 kB 9.3 MB/s eta 0:00:01\r\u001b[K     |████████████████████████████    | 901 kB 9.3 MB/s eta 0:00:01\r\u001b[K     |████████████████████████████▎   | 911 kB 9.3 MB/s eta 0:00:01\r\u001b[K     |████████████████████████████▋   | 921 kB 9.3 MB/s eta 0:00:01\r\u001b[K     |█████████████████████████████   | 931 kB 9.3 MB/s eta 0:00:01\r\u001b[K     |█████████████████████████████▎  | 942 kB 9.3 MB/s eta 0:00:01\r\u001b[K     |█████████████████████████████▌  | 952 kB 9.3 MB/s eta 0:00:01\r\u001b[K     |█████████████████████████████▉  | 962 kB 9.3 MB/s eta 0:00:01\r\u001b[K     |██████████████████████████████▏ | 972 kB 9.3 MB/s eta 0:00:01\r\u001b[K     |██████████████████████████████▌ | 983 kB 9.3 MB/s eta 0:00:01\r\u001b[K     |██████████████████████████████▉ | 993 kB 9.3 MB/s eta 0:00:01\r\u001b[K     |███████████████████████████████▏| 1.0 MB 9.3 MB/s eta 0:00:01\r\u001b[K     |███████████████████████████████▌| 1.0 MB 9.3 MB/s eta 0:00:01\r\u001b[K     |███████████████████████████████▊| 1.0 MB 9.3 MB/s eta 0:00:01\r\u001b[K     |████████████████████████████████| 1.0 MB 9.3 MB/s \n",
            "\u001b[?25hRequirement already satisfied: shapely>=1.6 in /usr/local/lib/python3.7/dist-packages (from geopandas) (1.8.0)\n",
            "Collecting pyproj>=2.2.0\n",
            "  Downloading pyproj-3.2.1-cp37-cp37m-manylinux2010_x86_64.whl (6.3 MB)\n",
            "\u001b[K     |████████████████████████████████| 6.3 MB 46.2 MB/s \n",
            "\u001b[?25hRequirement already satisfied: pandas>=0.25.0 in /usr/local/lib/python3.7/dist-packages (from geopandas) (1.3.5)\n",
            "Collecting fiona>=1.8\n",
            "  Downloading Fiona-1.8.21-cp37-cp37m-manylinux2014_x86_64.whl (16.7 MB)\n",
            "\u001b[K     |████████████████████████████████| 16.7 MB 304 kB/s \n",
            "\u001b[?25hRequirement already satisfied: certifi in /usr/local/lib/python3.7/dist-packages (from fiona>=1.8->geopandas) (2021.10.8)\n",
            "Collecting click-plugins>=1.0\n",
            "  Downloading click_plugins-1.1.1-py2.py3-none-any.whl (7.5 kB)\n",
            "Requirement already satisfied: click>=4.0 in /usr/local/lib/python3.7/dist-packages (from fiona>=1.8->geopandas) (7.1.2)\n",
            "Collecting cligj>=0.5\n",
            "  Downloading cligj-0.7.2-py3-none-any.whl (7.1 kB)\n",
            "Requirement already satisfied: setuptools in /usr/local/lib/python3.7/dist-packages (from fiona>=1.8->geopandas) (57.4.0)\n",
            "Collecting munch\n",
            "  Downloading munch-2.5.0-py2.py3-none-any.whl (10 kB)\n",
            "Requirement already satisfied: six>=1.7 in /usr/local/lib/python3.7/dist-packages (from fiona>=1.8->geopandas) (1.15.0)\n",
            "Requirement already satisfied: attrs>=17 in /usr/local/lib/python3.7/dist-packages (from fiona>=1.8->geopandas) (21.4.0)\n",
            "Requirement already satisfied: python-dateutil>=2.7.3 in /usr/local/lib/python3.7/dist-packages (from pandas>=0.25.0->geopandas) (2.8.2)\n",
            "Requirement already satisfied: pytz>=2017.3 in /usr/local/lib/python3.7/dist-packages (from pandas>=0.25.0->geopandas) (2018.9)\n",
            "Requirement already satisfied: numpy>=1.17.3 in /usr/local/lib/python3.7/dist-packages (from pandas>=0.25.0->geopandas) (1.19.5)\n",
            "Installing collected packages: munch, cligj, click-plugins, pyproj, fiona, geopandas\n",
            "Successfully installed click-plugins-1.1.1 cligj-0.7.2 fiona-1.8.21 geopandas-0.10.2 munch-2.5.0 pyproj-3.2.1\n"
          ]
        }
      ],
      "source": [
        "!pip install geopandas\n",
        "import pandas as pd\n",
        "import numpy as np"
      ]
    },
    {
      "cell_type": "code",
      "source": [
        "acoso = pd.read_csv('https://raw.githubusercontent.com/mauriciotoro/ST0245-Eafit/master/proyecto/Datasets/calles_de_medellin_con_acoso.csv', sep=';')\n",
        "print(acoso)\n"
      ],
      "metadata": {
        "id": "hzn5P9CDqxQc",
        "outputId": "64873f6e-d85d-43be-b53f-9e0709691234",
        "colab": {
          "base_uri": "https://localhost:8080/"
        }
      },
      "execution_count": 2,
      "outputs": [
        {
          "output_type": "stream",
          "name": "stdout",
          "text": [
            "                                                    name  ...                                           geometry\n",
            "0                                               Calle 10  ...  LINESTRING (-75.5728593 6.2115169, -75.5724984...\n",
            "1                                               Calle 10  ...  LINESTRING (-75.5705202 6.2106275, -75.570427 ...\n",
            "2                                            Carrera 43A  ...  LINESTRING (-75.5705202 6.2106275, -75.5705604...\n",
            "3                                             Carrera 41  ...  LINESTRING (-75.5687719 6.2099661, -75.5688021...\n",
            "4                                               Calle 10  ...  LINESTRING (-75.5687719 6.2099661, -75.568715 ...\n",
            "...                                                  ...  ...                                                ...\n",
            "68744                            Medellín - San Jerónimo  ...  LINESTRING (-75.7086893 6.3627057, -75.7087245...\n",
            "68745                                                NaN  ...  LINESTRING (-75.7086893 6.3627057, -75.7087739...\n",
            "68746                              San Jerónimo-Medellín  ...  LINESTRING (-75.6909483 6.338773, -75.6902973 ...\n",
            "68747  ['Medellín - San Jerónimo', 'San Jerónimo-Mede...  ...  LINESTRING (-75.6909483 6.338773, -75.6918575 ...\n",
            "68748                            Medellín - San Jerónimo  ...  LINESTRING (-75.6909483 6.338773, -75.69181519...\n",
            "\n",
            "[68749 rows x 7 columns]\n"
          ]
        }
      ]
    },
    {
      "cell_type": "code",
      "source": [
        "poligono = pd.read_csv('https://raw.githubusercontent.com/mauriciotoro/ST0245-Eafit/master/proyecto/Datasets/poligono_de_medellin.csv', sep=';')\n",
        "print(poligono)"
      ],
      "metadata": {
        "colab": {
          "base_uri": "https://localhost:8080/"
        },
        "id": "RAIFaBRurcnH",
        "outputId": "950d5da3-ec18-4551-aca4-6a275c03c82c"
      },
      "execution_count": 3,
      "outputs": [
        {
          "output_type": "stream",
          "name": "stdout",
          "text": [
            "                                            geometry  ...  importance\n",
            "0  POLYGON ((-75.7193741 6.34168, -75.7193637 6.3...  ...    0.923478\n",
            "\n",
            "[1 rows x 14 columns]\n"
          ]
        }
      ]
    },
    {
      "cell_type": "code",
      "source": [
        "%matplotlib inline\n",
        "\n",
        "import matplotlib.pyplot as plt\n",
        "import geopandas as gpd\n",
        "import pysal as ps\n",
        "from pysal.contrib.viz import mapping as maps"
      ],
      "metadata": {
        "colab": {
          "base_uri": "https://localhost:8080/",
          "height": 357
        },
        "id": "zYKJaQZP8t3J",
        "outputId": "c5d9062a-6ee6-486d-d501-ca085280a701"
      },
      "execution_count": 6,
      "outputs": [
        {
          "output_type": "error",
          "ename": "ModuleNotFoundError",
          "evalue": "ignored",
          "traceback": [
            "\u001b[0;31m---------------------------------------------------------------------------\u001b[0m",
            "\u001b[0;31mModuleNotFoundError\u001b[0m                       Traceback (most recent call last)",
            "\u001b[0;32m<ipython-input-6-8b748facc7c2>\u001b[0m in \u001b[0;36m<module>\u001b[0;34m()\u001b[0m\n\u001b[1;32m      3\u001b[0m \u001b[0;32mimport\u001b[0m \u001b[0mmatplotlib\u001b[0m\u001b[0;34m.\u001b[0m\u001b[0mpyplot\u001b[0m \u001b[0;32mas\u001b[0m \u001b[0mplt\u001b[0m\u001b[0;34m\u001b[0m\u001b[0;34m\u001b[0m\u001b[0m\n\u001b[1;32m      4\u001b[0m \u001b[0;32mimport\u001b[0m \u001b[0mgeopandas\u001b[0m \u001b[0;32mas\u001b[0m \u001b[0mgpd\u001b[0m\u001b[0;34m\u001b[0m\u001b[0;34m\u001b[0m\u001b[0m\n\u001b[0;32m----> 5\u001b[0;31m \u001b[0;32mimport\u001b[0m \u001b[0mpysal\u001b[0m \u001b[0;32mas\u001b[0m \u001b[0mps\u001b[0m\u001b[0;34m\u001b[0m\u001b[0;34m\u001b[0m\u001b[0m\n\u001b[0m\u001b[1;32m      6\u001b[0m \u001b[0;32mfrom\u001b[0m \u001b[0mpysal\u001b[0m\u001b[0;34m.\u001b[0m\u001b[0mcontrib\u001b[0m\u001b[0;34m.\u001b[0m\u001b[0mviz\u001b[0m \u001b[0;32mimport\u001b[0m \u001b[0mmapping\u001b[0m \u001b[0;32mas\u001b[0m \u001b[0mmaps\u001b[0m\u001b[0;34m\u001b[0m\u001b[0;34m\u001b[0m\u001b[0m\n",
            "\u001b[0;31mModuleNotFoundError\u001b[0m: No module named 'pysal'",
            "",
            "\u001b[0;31m---------------------------------------------------------------------------\u001b[0;32m\nNOTE: If your import is failing due to a missing package, you can\nmanually install dependencies using either !pip or !apt.\n\nTo view examples of installing some common dependencies, click the\n\"Open Examples\" button below.\n\u001b[0;31m---------------------------------------------------------------------------\u001b[0m\n"
          ],
          "errorDetails": {
            "actions": [
              {
                "action": "open_url",
                "actionText": "Open Examples",
                "url": "/notebooks/snippets/importing_libraries.ipynb"
              }
            ]
          }
        }
      ]
    }
  ]
}